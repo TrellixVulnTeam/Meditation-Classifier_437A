{
 "cells": [
  {
   "cell_type": "code",
   "execution_count": 1,
   "metadata": {
    "pycharm": {
     "name": "#%% import dependencies\n"
    }
   },
   "outputs": [],
   "source": [
    "# import required packages\n",
    "import numpy as np\n",
    "import pandas as pd\n",
    "import matplotlib\n",
    "import matplotlib.pyplot as plt\n",
    "import seaborn as sns\n",
    "from matplotlib.colors import ListedColormap\n",
    "from sklearn import neighbors, datasets\n",
    "from sklearn.preprocessing import StandardScaler\n",
    "from sklearn.model_selection import train_test_split\n",
    "from sklearn.metrics import confusion_matrix\n",
    "from sklearn import metrics\n",
    "from sklearn.metrics import classification_report\n",
    "from sklearn.cluster import KMeans\n",
    "from sklearn.neural_network import MLPClassifier\n",
    "from sklearn import svm"
   ]
  },
  {
   "cell_type": "code",
   "execution_count": 2,
   "metadata": {},
   "outputs": [],
   "source": [
    "# define # of nearest neighbors\n",
    "n_clusters = 2"
   ]
  },
  {
   "cell_type": "code",
   "execution_count": 3,
   "metadata": {},
   "outputs": [
    {
     "data": {
      "text/html": [
       "<div>\n",
       "<style scoped>\n",
       "    .dataframe tbody tr th:only-of-type {\n",
       "        vertical-align: middle;\n",
       "    }\n",
       "\n",
       "    .dataframe tbody tr th {\n",
       "        vertical-align: top;\n",
       "    }\n",
       "\n",
       "    .dataframe thead th {\n",
       "        text-align: right;\n",
       "    }\n",
       "</style>\n",
       "<table border=\"1\" class=\"dataframe\">\n",
       "  <thead>\n",
       "    <tr style=\"text-align: right;\">\n",
       "      <th></th>\n",
       "      <th>PC1</th>\n",
       "      <th>PC2</th>\n",
       "      <th>PC3</th>\n",
       "      <th>PC4</th>\n",
       "      <th>label</th>\n",
       "    </tr>\n",
       "  </thead>\n",
       "  <tbody>\n",
       "    <tr>\n",
       "      <th>0</th>\n",
       "      <td>1.919234</td>\n",
       "      <td>1.225710</td>\n",
       "      <td>-1.287233</td>\n",
       "      <td>0.285046</td>\n",
       "      <td>k_pre</td>\n",
       "    </tr>\n",
       "    <tr>\n",
       "      <th>1</th>\n",
       "      <td>1.629080</td>\n",
       "      <td>-0.495292</td>\n",
       "      <td>-0.689883</td>\n",
       "      <td>0.365053</td>\n",
       "      <td>k_pre</td>\n",
       "    </tr>\n",
       "    <tr>\n",
       "      <th>2</th>\n",
       "      <td>2.341778</td>\n",
       "      <td>-1.181016</td>\n",
       "      <td>-0.758231</td>\n",
       "      <td>0.174319</td>\n",
       "      <td>k_pre</td>\n",
       "    </tr>\n",
       "    <tr>\n",
       "      <th>3</th>\n",
       "      <td>1.229193</td>\n",
       "      <td>0.930177</td>\n",
       "      <td>-0.746822</td>\n",
       "      <td>0.327738</td>\n",
       "      <td>k_pre</td>\n",
       "    </tr>\n",
       "    <tr>\n",
       "      <th>4</th>\n",
       "      <td>1.881406</td>\n",
       "      <td>-0.417269</td>\n",
       "      <td>-0.858387</td>\n",
       "      <td>0.351611</td>\n",
       "      <td>k_pre</td>\n",
       "    </tr>\n",
       "    <tr>\n",
       "      <th>...</th>\n",
       "      <td>...</td>\n",
       "      <td>...</td>\n",
       "      <td>...</td>\n",
       "      <td>...</td>\n",
       "      <td>...</td>\n",
       "    </tr>\n",
       "    <tr>\n",
       "      <th>91</th>\n",
       "      <td>-0.584261</td>\n",
       "      <td>3.824609</td>\n",
       "      <td>-0.579344</td>\n",
       "      <td>-0.546390</td>\n",
       "      <td>k_med</td>\n",
       "    </tr>\n",
       "    <tr>\n",
       "      <th>92</th>\n",
       "      <td>-0.489981</td>\n",
       "      <td>2.892255</td>\n",
       "      <td>0.260431</td>\n",
       "      <td>-0.950496</td>\n",
       "      <td>k_med</td>\n",
       "    </tr>\n",
       "    <tr>\n",
       "      <th>93</th>\n",
       "      <td>-2.153267</td>\n",
       "      <td>2.608921</td>\n",
       "      <td>0.641948</td>\n",
       "      <td>-0.166193</td>\n",
       "      <td>k_med</td>\n",
       "    </tr>\n",
       "    <tr>\n",
       "      <th>94</th>\n",
       "      <td>-0.443943</td>\n",
       "      <td>3.236324</td>\n",
       "      <td>-0.394600</td>\n",
       "      <td>-0.524103</td>\n",
       "      <td>k_med</td>\n",
       "    </tr>\n",
       "    <tr>\n",
       "      <th>95</th>\n",
       "      <td>0.402208</td>\n",
       "      <td>3.711258</td>\n",
       "      <td>-0.561773</td>\n",
       "      <td>-0.895813</td>\n",
       "      <td>k_med</td>\n",
       "    </tr>\n",
       "  </tbody>\n",
       "</table>\n",
       "<p>96 rows × 5 columns</p>\n",
       "</div>"
      ],
      "text/plain": [
       "         PC1       PC2       PC3       PC4  label\n",
       "0   1.919234  1.225710 -1.287233  0.285046  k_pre\n",
       "1   1.629080 -0.495292 -0.689883  0.365053  k_pre\n",
       "2   2.341778 -1.181016 -0.758231  0.174319  k_pre\n",
       "3   1.229193  0.930177 -0.746822  0.327738  k_pre\n",
       "4   1.881406 -0.417269 -0.858387  0.351611  k_pre\n",
       "..       ...       ...       ...       ...    ...\n",
       "91 -0.584261  3.824609 -0.579344 -0.546390  k_med\n",
       "92 -0.489981  2.892255  0.260431 -0.950496  k_med\n",
       "93 -2.153267  2.608921  0.641948 -0.166193  k_med\n",
       "94 -0.443943  3.236324 -0.394600 -0.524103  k_med\n",
       "95  0.402208  3.711258 -0.561773 -0.895813  k_med\n",
       "\n",
       "[96 rows x 5 columns]"
      ]
     },
     "execution_count": 3,
     "metadata": {},
     "output_type": "execute_result"
    }
   ],
   "source": [
    "# read in features csv file\n",
    "df = pd.read_csv('kundalini/k_pca_features.csv')\n",
    "df"
   ]
  },
  {
   "cell_type": "code",
   "execution_count": 4,
   "metadata": {},
   "outputs": [
    {
     "data": {
      "text/html": [
       "<div>\n",
       "<style scoped>\n",
       "    .dataframe tbody tr th:only-of-type {\n",
       "        vertical-align: middle;\n",
       "    }\n",
       "\n",
       "    .dataframe tbody tr th {\n",
       "        vertical-align: top;\n",
       "    }\n",
       "\n",
       "    .dataframe thead th {\n",
       "        text-align: right;\n",
       "    }\n",
       "</style>\n",
       "<table border=\"1\" class=\"dataframe\">\n",
       "  <thead>\n",
       "    <tr style=\"text-align: right;\">\n",
       "      <th></th>\n",
       "      <th>PC1</th>\n",
       "      <th>PC2</th>\n",
       "      <th>PC3</th>\n",
       "      <th>PC4</th>\n",
       "      <th>label</th>\n",
       "    </tr>\n",
       "  </thead>\n",
       "  <tbody>\n",
       "    <tr>\n",
       "      <th>0</th>\n",
       "      <td>1.919234</td>\n",
       "      <td>1.225710</td>\n",
       "      <td>-1.287233</td>\n",
       "      <td>0.285046</td>\n",
       "      <td>0</td>\n",
       "    </tr>\n",
       "    <tr>\n",
       "      <th>1</th>\n",
       "      <td>1.629080</td>\n",
       "      <td>-0.495292</td>\n",
       "      <td>-0.689883</td>\n",
       "      <td>0.365053</td>\n",
       "      <td>0</td>\n",
       "    </tr>\n",
       "    <tr>\n",
       "      <th>2</th>\n",
       "      <td>2.341778</td>\n",
       "      <td>-1.181016</td>\n",
       "      <td>-0.758231</td>\n",
       "      <td>0.174319</td>\n",
       "      <td>0</td>\n",
       "    </tr>\n",
       "    <tr>\n",
       "      <th>3</th>\n",
       "      <td>1.229193</td>\n",
       "      <td>0.930177</td>\n",
       "      <td>-0.746822</td>\n",
       "      <td>0.327738</td>\n",
       "      <td>0</td>\n",
       "    </tr>\n",
       "    <tr>\n",
       "      <th>4</th>\n",
       "      <td>1.881406</td>\n",
       "      <td>-0.417269</td>\n",
       "      <td>-0.858387</td>\n",
       "      <td>0.351611</td>\n",
       "      <td>0</td>\n",
       "    </tr>\n",
       "    <tr>\n",
       "      <th>...</th>\n",
       "      <td>...</td>\n",
       "      <td>...</td>\n",
       "      <td>...</td>\n",
       "      <td>...</td>\n",
       "      <td>...</td>\n",
       "    </tr>\n",
       "    <tr>\n",
       "      <th>91</th>\n",
       "      <td>-0.584261</td>\n",
       "      <td>3.824609</td>\n",
       "      <td>-0.579344</td>\n",
       "      <td>-0.546390</td>\n",
       "      <td>1</td>\n",
       "    </tr>\n",
       "    <tr>\n",
       "      <th>92</th>\n",
       "      <td>-0.489981</td>\n",
       "      <td>2.892255</td>\n",
       "      <td>0.260431</td>\n",
       "      <td>-0.950496</td>\n",
       "      <td>1</td>\n",
       "    </tr>\n",
       "    <tr>\n",
       "      <th>93</th>\n",
       "      <td>-2.153267</td>\n",
       "      <td>2.608921</td>\n",
       "      <td>0.641948</td>\n",
       "      <td>-0.166193</td>\n",
       "      <td>1</td>\n",
       "    </tr>\n",
       "    <tr>\n",
       "      <th>94</th>\n",
       "      <td>-0.443943</td>\n",
       "      <td>3.236324</td>\n",
       "      <td>-0.394600</td>\n",
       "      <td>-0.524103</td>\n",
       "      <td>1</td>\n",
       "    </tr>\n",
       "    <tr>\n",
       "      <th>95</th>\n",
       "      <td>0.402208</td>\n",
       "      <td>3.711258</td>\n",
       "      <td>-0.561773</td>\n",
       "      <td>-0.895813</td>\n",
       "      <td>1</td>\n",
       "    </tr>\n",
       "  </tbody>\n",
       "</table>\n",
       "<p>96 rows × 5 columns</p>\n",
       "</div>"
      ],
      "text/plain": [
       "         PC1       PC2       PC3       PC4  label\n",
       "0   1.919234  1.225710 -1.287233  0.285046      0\n",
       "1   1.629080 -0.495292 -0.689883  0.365053      0\n",
       "2   2.341778 -1.181016 -0.758231  0.174319      0\n",
       "3   1.229193  0.930177 -0.746822  0.327738      0\n",
       "4   1.881406 -0.417269 -0.858387  0.351611      0\n",
       "..       ...       ...       ...       ...    ...\n",
       "91 -0.584261  3.824609 -0.579344 -0.546390      1\n",
       "92 -0.489981  2.892255  0.260431 -0.950496      1\n",
       "93 -2.153267  2.608921  0.641948 -0.166193      1\n",
       "94 -0.443943  3.236324 -0.394600 -0.524103      1\n",
       "95  0.402208  3.711258 -0.561773 -0.895813      1\n",
       "\n",
       "[96 rows x 5 columns]"
      ]
     },
     "execution_count": 4,
     "metadata": {},
     "output_type": "execute_result"
    }
   ],
   "source": [
    "# encode meditative/non-meditative labels\n",
    "categories = {'k_pre':0,'k_med':1}\n",
    "df['label'] = df['label'].replace(categories)\n",
    "df"
   ]
  },
  {
   "cell_type": "code",
   "execution_count": 5,
   "metadata": {
    "pycharm": {
     "name": "#%%\n"
    }
   },
   "outputs": [],
   "source": [
    "# split dependent and independent variables\n",
    "# target variable\n",
    "Y = df['label'].values\n",
    "# features\n",
    "X = df.drop(labels = ['label'], axis = 1)\n",
    "features_list = list(X.columns)\n",
    "\n",
    "# Standardizing the features\n",
    "X = StandardScaler().fit_transform(X)"
   ]
  },
  {
   "cell_type": "code",
   "execution_count": 6,
   "metadata": {
    "pycharm": {
     "name": "#%%\n"
    }
   },
   "outputs": [],
   "source": [
    "# split training and testing dataset: 70% training, 30% testing\n",
    "X_train,X_test,y_train,y_test = train_test_split(X,Y,test_size = 0.3,random_state = 42)"
   ]
  },
  {
   "cell_type": "markdown",
   "metadata": {},
   "source": [
    "# Unsupervised Learning: K Means"
   ]
  },
  {
   "cell_type": "code",
   "execution_count": 7,
   "metadata": {},
   "outputs": [
    {
     "data": {
      "text/plain": [
       "KMeans(n_clusters=2, random_state=0)"
      ]
     },
     "execution_count": 7,
     "metadata": {},
     "output_type": "execute_result"
    }
   ],
   "source": [
    "#create the classifier\n",
    "clf = KMeans(n_clusters=2, random_state=0)\n",
    "# train the classifier\n",
    "clf.fit(X_train)"
   ]
  },
  {
   "cell_type": "code",
   "execution_count": 8,
   "metadata": {
    "pycharm": {
     "name": "#%%\n"
    }
   },
   "outputs": [],
   "source": [
    "# test classifier\n",
    "\n",
    "y_pred = clf.predict(X_test)"
   ]
  },
  {
   "cell_type": "code",
   "execution_count": 9,
   "metadata": {
    "pycharm": {
     "name": "#%%\n"
    }
   },
   "outputs": [
    {
     "data": {
      "text/html": [
       "<div>\n",
       "<style scoped>\n",
       "    .dataframe tbody tr th:only-of-type {\n",
       "        vertical-align: middle;\n",
       "    }\n",
       "\n",
       "    .dataframe tbody tr th {\n",
       "        vertical-align: top;\n",
       "    }\n",
       "\n",
       "    .dataframe thead th {\n",
       "        text-align: right;\n",
       "    }\n",
       "</style>\n",
       "<table border=\"1\" class=\"dataframe\">\n",
       "  <thead>\n",
       "    <tr style=\"text-align: right;\">\n",
       "      <th>Predicted / Actual</th>\n",
       "      <th>Non-Meditative</th>\n",
       "      <th>Meditative</th>\n",
       "    </tr>\n",
       "  </thead>\n",
       "  <tbody>\n",
       "    <tr>\n",
       "      <th>Non-Meditative</th>\n",
       "      <td>0</td>\n",
       "      <td>17</td>\n",
       "    </tr>\n",
       "    <tr>\n",
       "      <th>Meditative</th>\n",
       "      <td>3</td>\n",
       "      <td>9</td>\n",
       "    </tr>\n",
       "  </tbody>\n",
       "</table>\n",
       "</div>"
      ],
      "text/plain": [
       "Predicted / Actual  Non-Meditative  Meditative\n",
       "Non-Meditative                   0          17\n",
       "Meditative                       3           9"
      ]
     },
     "execution_count": 9,
     "metadata": {},
     "output_type": "execute_result"
    }
   ],
   "source": [
    "# analyze test_data\n",
    "# display results in confusion matrix\n",
    "cm = confusion_matrix(y_test,y_pred)\n",
    "cm\n",
    "\n",
    "results = pd.crosstab(y_test, y_pred, colnames=['Predicted / Actual'])\n",
    "results = results.rename(columns={0: 'Non-Meditative', 1: 'Meditative'})\n",
    "results.index = ['Non-Meditative', 'Meditative']\n",
    "results"
   ]
  },
  {
   "cell_type": "code",
   "execution_count": 10,
   "metadata": {},
   "outputs": [
    {
     "name": "stdout",
     "output_type": "stream",
     "text": [
      "                precision    recall  f1-score   support\n",
      "\n",
      "Non-Meditative       0.00      0.00      0.00        17\n",
      "    Meditative       0.35      0.75      0.47        12\n",
      "\n",
      "      accuracy                           0.31        29\n",
      "     macro avg       0.17      0.38      0.24        29\n",
      "  weighted avg       0.14      0.31      0.20        29\n",
      "\n"
     ]
    }
   ],
   "source": [
    "target_names = ['Non-Meditative', 'Meditative']\n",
    "print(classification_report(y_test, y_pred, target_names=target_names))"
   ]
  },
  {
   "cell_type": "code",
   "execution_count": 11,
   "metadata": {},
   "outputs": [
    {
     "name": "stdout",
     "output_type": "stream",
     "text": [
      "K-means - Chi+Kundalini (post-pca)\n",
      "\n",
      "Sensitivity = 0.750\n",
      "Accuracy = 0.310\n",
      "Precision = 0.346\n",
      "Matthew Correlation Coefficient = -0.404\n"
     ]
    }
   ],
   "source": [
    "# store metrics for comparision amongst other k-nearest-neighbor classifier outputs later\n",
    "overall_rec = []\n",
    "overall_acc = []\n",
    "overall_pre = []\n",
    "overall_mcc = []\n",
    "overall_spc = []\n",
    "\n",
    "# obtain metrics for model\n",
    "recall = metrics.recall_score(y_test,y_pred)\n",
    "accuracy = metrics.accuracy_score(y_test,y_pred)\n",
    "precision = metrics.precision_score(y_test,y_pred)\n",
    "mcc = metrics.matthews_corrcoef(y_test,y_pred)\n",
    "specificity = metrics.balanced_accuracy_score(y_test,y_pred)*2 - recall\n",
    "\n",
    "overall_rec.append(recall)\n",
    "overall_acc.append(accuracy)\n",
    "overall_pre.append(precision)\n",
    "overall_mcc.append(mcc)\n",
    "overall_spc.append(specificity)\n",
    "\n",
    "# display metrics\n",
    "print('K-means - Chi+Kundalini (post-pca)\\n')\n",
    "print('Sensitivity = %.3f' % recall)\n",
    "print('Accuracy = %.3f' % accuracy)\n",
    "print('Precision = %.3f' % precision)\n",
    "print('Matthew Correlation Coefficient = %.3f' % mcc)"
   ]
  },
  {
   "cell_type": "markdown",
   "metadata": {
    "pycharm": {
     "name": "#%% md\n"
    }
   },
   "source": [
    "# Supervised Learning: K Nearest Neighbors"
   ]
  },
  {
   "cell_type": "markdown",
   "metadata": {
    "pycharm": {
     "name": "#%% md\n"
    }
   },
   "source": [
    "## 5 Neighbors, Distance"
   ]
  },
  {
   "cell_type": "code",
   "execution_count": 12,
   "metadata": {
    "pycharm": {
     "name": "#%%\n"
    }
   },
   "outputs": [],
   "source": [
    "#create the classifier\n",
    "clf = neighbors.KNeighborsClassifier(n_neighbors = 5, weights=\"distance\")"
   ]
  },
  {
   "cell_type": "code",
   "execution_count": 13,
   "metadata": {
    "pycharm": {
     "name": "#%%\n"
    }
   },
   "outputs": [
    {
     "data": {
      "text/plain": [
       "KNeighborsClassifier(weights='distance')"
      ]
     },
     "execution_count": 13,
     "metadata": {},
     "output_type": "execute_result"
    }
   ],
   "source": [
    "# train the classifier\n",
    "clf.fit(X_train, y_train)"
   ]
  },
  {
   "cell_type": "code",
   "execution_count": 14,
   "metadata": {
    "pycharm": {
     "name": "#%%\n"
    }
   },
   "outputs": [],
   "source": [
    "# test classifier\n",
    "\n",
    "y_pred = clf.predict(X_test)"
   ]
  },
  {
   "cell_type": "code",
   "execution_count": 15,
   "metadata": {
    "pycharm": {
     "name": "#%%\n"
    }
   },
   "outputs": [
    {
     "data": {
      "text/html": [
       "<div>\n",
       "<style scoped>\n",
       "    .dataframe tbody tr th:only-of-type {\n",
       "        vertical-align: middle;\n",
       "    }\n",
       "\n",
       "    .dataframe tbody tr th {\n",
       "        vertical-align: top;\n",
       "    }\n",
       "\n",
       "    .dataframe thead th {\n",
       "        text-align: right;\n",
       "    }\n",
       "</style>\n",
       "<table border=\"1\" class=\"dataframe\">\n",
       "  <thead>\n",
       "    <tr style=\"text-align: right;\">\n",
       "      <th>Predicted / Actual</th>\n",
       "      <th>Non-Meditative</th>\n",
       "      <th>Meditative</th>\n",
       "    </tr>\n",
       "  </thead>\n",
       "  <tbody>\n",
       "    <tr>\n",
       "      <th>Non-Meditative</th>\n",
       "      <td>13</td>\n",
       "      <td>4</td>\n",
       "    </tr>\n",
       "    <tr>\n",
       "      <th>Meditative</th>\n",
       "      <td>0</td>\n",
       "      <td>12</td>\n",
       "    </tr>\n",
       "  </tbody>\n",
       "</table>\n",
       "</div>"
      ],
      "text/plain": [
       "Predicted / Actual  Non-Meditative  Meditative\n",
       "Non-Meditative                  13           4\n",
       "Meditative                       0          12"
      ]
     },
     "execution_count": 15,
     "metadata": {},
     "output_type": "execute_result"
    }
   ],
   "source": [
    "# analyze test_data\n",
    "# display results in confusion matrix\n",
    "cm = confusion_matrix(y_test,y_pred)\n",
    "cm\n",
    "\n",
    "results = pd.crosstab(y_test, y_pred, colnames=['Predicted / Actual'])\n",
    "results = results.rename(columns={0: 'Non-Meditative', 1: 'Meditative'})\n",
    "results.index = ['Non-Meditative', 'Meditative']\n",
    "results"
   ]
  },
  {
   "cell_type": "code",
   "execution_count": 16,
   "metadata": {
    "pycharm": {
     "name": "#%%\n"
    }
   },
   "outputs": [
    {
     "name": "stdout",
     "output_type": "stream",
     "text": [
      "                precision    recall  f1-score   support\n",
      "\n",
      "Non-Meditative       1.00      0.76      0.87        17\n",
      "    Meditative       0.75      1.00      0.86        12\n",
      "\n",
      "      accuracy                           0.86        29\n",
      "     macro avg       0.88      0.88      0.86        29\n",
      "  weighted avg       0.90      0.86      0.86        29\n",
      "\n"
     ]
    }
   ],
   "source": [
    "print(classification_report(y_test, y_pred, target_names=target_names))"
   ]
  },
  {
   "cell_type": "code",
   "execution_count": 17,
   "metadata": {
    "pycharm": {
     "name": "#%%\n"
    }
   },
   "outputs": [
    {
     "name": "stdout",
     "output_type": "stream",
     "text": [
      "K-means\n",
      "\n",
      "Sensitivity = 1.000\n",
      "Accuracy = 0.862\n",
      "Precision = 0.750\n",
      "Matthew Correlation Coefficient = 0.757\n"
     ]
    }
   ],
   "source": [
    "knn_rec = []\n",
    "knn_acc = []\n",
    "knn_pre = []\n",
    "knn_mcc = []\n",
    "\n",
    "# obtain metrics for model\n",
    "recall = metrics.recall_score(y_test,y_pred)\n",
    "accuracy = metrics.accuracy_score(y_test,y_pred)\n",
    "precision = metrics.precision_score(y_test,y_pred)\n",
    "mcc = metrics.matthews_corrcoef(y_test,y_pred)\n",
    "\n",
    "knn_rec.append(recall)\n",
    "knn_acc.append(accuracy)\n",
    "knn_pre.append(precision)\n",
    "knn_mcc.append(mcc)\n",
    "\n",
    "# display metrics\n",
    "print('K-means\\n')\n",
    "print('Sensitivity = %.3f' % recall)\n",
    "print('Accuracy = %.3f' % accuracy)\n",
    "print('Precision = %.3f' % precision)\n",
    "print('Matthew Correlation Coefficient = %.3f' % mcc)"
   ]
  },
  {
   "cell_type": "markdown",
   "metadata": {},
   "source": [
    "## Comparison of n_neighbors vs. results"
   ]
  },
  {
   "cell_type": "code",
   "execution_count": 18,
   "metadata": {
    "pycharm": {
     "name": "#%%\n"
    }
   },
   "outputs": [
    {
     "data": {
      "image/png": "[encoded data removed]",
      "text/plain": [
       "<Figure size 720x480 with 2 Axes>"
      ]
     },
     "metadata": {
      "needs_background": "light"
     },
     "output_type": "display_data"
    }
   ],
   "source": [
    "knn_rec = []\n",
    "knn_acc = []\n",
    "knn_pre = []\n",
    "knn_mcc = []\n",
    "knn_spc = []\n",
    "num_neighbors = 20\n",
    "\n",
    "for i in range(1,num_neighbors+1):\n",
    "    #create the classifier\n",
    "    clf = neighbors.KNeighborsClassifier(n_neighbors = i, weights=\"distance\")\n",
    "\n",
    "    # train the classifier\n",
    "    clf.fit(X_train, y_train)\n",
    "\n",
    "    # test classifier\n",
    "    y_pred = clf.predict(X_test)\n",
    "\n",
    "    # obtain metrics for model\n",
    "    recall = metrics.recall_score(y_test,y_pred)\n",
    "    accuracy = metrics.accuracy_score(y_test,y_pred)\n",
    "    precision = metrics.precision_score(y_test,y_pred)\n",
    "    mcc = metrics.matthews_corrcoef(y_test,y_pred)\n",
    "    specificity = metrics.balanced_accuracy_score(y_test,y_pred)*2 - recall\n",
    "\n",
    "    knn_rec.append(recall)\n",
    "    knn_acc.append(accuracy)\n",
    "    knn_pre.append(precision)\n",
    "    knn_mcc.append(mcc)\n",
    "    knn_spc.append(specificity)\n",
    "\n",
    "\n",
    "df = pd.DataFrame()\n",
    "\n",
    "df['n'] = [str(x) for x in range(1,num_neighbors+1)]\n",
    "df['sensitivity'] = knn_rec\n",
    "df['accuracy'] = knn_acc\n",
    "df['precision'] = knn_pre\n",
    "df['mcc'] = knn_mcc\n",
    "\n",
    "y_axis_labels = [str(x) for x in range(1,num_neighbors+1)]\n",
    "\n",
    "plt.figure(dpi = 120)\n",
    "ax = sns.heatmap(df.iloc[:, 1:],\n",
    "                 cmap = 'GnBu',\n",
    "                 annot = True,\n",
    "                 yticklabels = y_axis_labels,\n",
    "                )\n",
    "plt.title(\"Number of neighbors vs. Classifier Performance\")\n",
    "plt.xlabel(\"Metric\")\n",
    "plt.ylabel(\"Number of neighbors\")\n",
    "plt.yticks(rotation=0)\n",
    "plt.show()"
   ]
  },
  {
   "cell_type": "markdown",
   "metadata": {},
   "source": [
    "Looking at the graph, it is clear that while 16 neighbors does not have the highest sensitivity,\n",
    "it has the best performance of all the tests. We can run this experiment again, but instead using a uniform weighting"
   ]
  },
  {
   "cell_type": "code",
   "execution_count": 19,
   "metadata": {
    "pycharm": {
     "name": "#%%\n"
    }
   },
   "outputs": [],
   "source": [
    "knn_rec = []\n",
    "knn_acc = []\n",
    "knn_pre = []\n",
    "knn_mcc = []\n",
    "knn_spc = []\n",
    "\n",
    "for i in range(1,num_neighbors+1):\n",
    "    #create the classifier\n",
    "    clf = neighbors.KNeighborsClassifier(n_neighbors = i, weights=\"uniform\")\n",
    "\n",
    "    # train the classifier\n",
    "    clf.fit(X_train, y_train)\n",
    "\n",
    "    # test classifier\n",
    "    y_pred = clf.predict(X_test)\n",
    "\n",
    "    # obtain metrics for model\n",
    "    recall = metrics.recall_score(y_test,y_pred)\n",
    "    accuracy = metrics.accuracy_score(y_test,y_pred)\n",
    "    precision = metrics.precision_score(y_test,y_pred)\n",
    "    mcc = metrics.matthews_corrcoef(y_test,y_pred)\n",
    "    specificity = metrics.balanced_accuracy_score(y_test,y_pred)*2 - recall\n",
    "\n",
    "    knn_rec.append(recall)\n",
    "    knn_acc.append(accuracy)\n",
    "    knn_pre.append(precision)\n",
    "    knn_mcc.append(mcc)\n",
    "    knn_spc.append(specificity)\n",
    "\n",
    "\n",
    "overall_rec.append(knn_rec[2])\n",
    "overall_acc.append(knn_acc[2])\n",
    "overall_pre.append(knn_pre[2])\n",
    "overall_mcc.append(knn_mcc[2])\n",
    "overall_spc.append(knn_spc[2])"
   ]
  },
  {
   "cell_type": "code",
   "execution_count": 20,
   "metadata": {
    "pycharm": {
     "name": "#%%\n"
    }
   },
   "outputs": [],
   "source": [
    "df = pd.DataFrame()\n",
    "\n",
    "df['n'] = [str(x) for x in range(1,num_neighbors+1)]\n",
    "df['sensitivity'] = knn_rec\n",
    "df['accuracy'] = knn_acc\n",
    "df['precision'] = knn_pre\n",
    "df['mcc'] = knn_mcc\n"
   ]
  },
  {
   "cell_type": "code",
   "execution_count": 21,
   "metadata": {
    "pycharm": {
     "name": "#%%\n"
    }
   },
   "outputs": [
    {
     "data": {
      "image/png": "[encoded data removed]",
      "text/plain": [
       "<Figure size 720x480 with 2 Axes>"
      ]
     },
     "metadata": {
      "needs_background": "light"
     },
     "output_type": "display_data"
    }
   ],
   "source": [
    "y_axis_labels = [str(x) for x in range(1,num_neighbors+1)]\n",
    "\n",
    "plt.figure(dpi = 120)\n",
    "ax = sns.heatmap(df.iloc[:, 1:],\n",
    "                 cmap = 'GnBu',\n",
    "                 annot = True,\n",
    "                 yticklabels = y_axis_labels,\n",
    "                )\n",
    "plt.title(\"Number of neighbors vs. Classifier Performance\")\n",
    "plt.xlabel(\"Metric\")\n",
    "plt.ylabel(\"Number of neighbors\")\n",
    "plt.yticks(rotation=0)\n",
    "plt.show()"
   ]
  },
  {
   "cell_type": "markdown",
   "metadata": {},
   "source": [
    "Looking at the graph, it is clear that while 19 neighbors does not have the highest sensitivity,\n",
    "it has the best performance of all the tests.\n",
    "\n",
    "Overall, it seems that a uniform weighted k nearest neighbors classifier with 19 neighbors performs the best.\n"
   ]
  },
  {
   "cell_type": "markdown",
   "metadata": {},
   "source": [
    "# Supervised Learning: Multilayer Perceptron\n",
    "\n",
    "## MLP: Relu"
   ]
  },
  {
   "cell_type": "code",
   "execution_count": 22,
   "metadata": {
    "pycharm": {
     "name": "#%%\n"
    }
   },
   "outputs": [],
   "source": [
    "#create the classifier\n",
    "# logistic works better than relu\n",
    "clf = MLPClassifier(solver='lbfgs', activation='logistic', alpha=1e-5, hidden_layer_sizes=(15,), random_state=1)"
   ]
  },
  {
   "cell_type": "code",
   "execution_count": 23,
   "metadata": {
    "pycharm": {
     "name": "#%%\n"
    }
   },
   "outputs": [
    {
     "data": {
      "text/plain": [
       "MLPClassifier(activation='logistic', alpha=1e-05, hidden_layer_sizes=(15,),\n",
       "              random_state=1, solver='lbfgs')"
      ]
     },
     "execution_count": 23,
     "metadata": {},
     "output_type": "execute_result"
    }
   ],
   "source": [
    "# train the classifier\n",
    "clf.fit(X_train, y_train)"
   ]
  },
  {
   "cell_type": "code",
   "execution_count": 24,
   "metadata": {
    "pycharm": {
     "name": "#%%\n"
    }
   },
   "outputs": [],
   "source": [
    "# test classifier\n",
    "\n",
    "y_pred = clf.predict(X_test)"
   ]
  },
  {
   "cell_type": "code",
   "execution_count": 25,
   "metadata": {
    "pycharm": {
     "name": "#%%\n"
    }
   },
   "outputs": [
    {
     "data": {
      "text/html": [
       "<div>\n",
       "<style scoped>\n",
       "    .dataframe tbody tr th:only-of-type {\n",
       "        vertical-align: middle;\n",
       "    }\n",
       "\n",
       "    .dataframe tbody tr th {\n",
       "        vertical-align: top;\n",
       "    }\n",
       "\n",
       "    .dataframe thead th {\n",
       "        text-align: right;\n",
       "    }\n",
       "</style>\n",
       "<table border=\"1\" class=\"dataframe\">\n",
       "  <thead>\n",
       "    <tr style=\"text-align: right;\">\n",
       "      <th>Predicted / Actual</th>\n",
       "      <th>Non-Meditative</th>\n",
       "      <th>Meditative</th>\n",
       "    </tr>\n",
       "  </thead>\n",
       "  <tbody>\n",
       "    <tr>\n",
       "      <th>Non-Meditative</th>\n",
       "      <td>17</td>\n",
       "      <td>0</td>\n",
       "    </tr>\n",
       "    <tr>\n",
       "      <th>Meditative</th>\n",
       "      <td>0</td>\n",
       "      <td>12</td>\n",
       "    </tr>\n",
       "  </tbody>\n",
       "</table>\n",
       "</div>"
      ],
      "text/plain": [
       "Predicted / Actual  Non-Meditative  Meditative\n",
       "Non-Meditative                  17           0\n",
       "Meditative                       0          12"
      ]
     },
     "execution_count": 25,
     "metadata": {},
     "output_type": "execute_result"
    }
   ],
   "source": [
    "# analyze test_data\n",
    "# display results in confusion matrix\n",
    "cm = confusion_matrix(y_test,y_pred)\n",
    "cm\n",
    "\n",
    "results = pd.crosstab(y_test, y_pred, colnames=['Predicted / Actual'])\n",
    "results = results.rename(columns={0: 'Non-Meditative', 1: 'Meditative'})\n",
    "results.index = ['Non-Meditative', 'Meditative']\n",
    "results"
   ]
  },
  {
   "cell_type": "code",
   "execution_count": 26,
   "metadata": {
    "pycharm": {
     "name": "#%%\n"
    }
   },
   "outputs": [
    {
     "name": "stdout",
     "output_type": "stream",
     "text": [
      "                precision    recall  f1-score   support\n",
      "\n",
      "Non-Meditative       1.00      1.00      1.00        17\n",
      "    Meditative       1.00      1.00      1.00        12\n",
      "\n",
      "      accuracy                           1.00        29\n",
      "     macro avg       1.00      1.00      1.00        29\n",
      "  weighted avg       1.00      1.00      1.00        29\n",
      "\n"
     ]
    }
   ],
   "source": [
    "print(classification_report(y_test, y_pred, target_names=target_names))"
   ]
  },
  {
   "cell_type": "code",
   "execution_count": 27,
   "metadata": {
    "pycharm": {
     "name": "#%%\n"
    }
   },
   "outputs": [
    {
     "name": "stdout",
     "output_type": "stream",
     "text": [
      "Multilayer Perceptron - (post-pca)\n",
      "\n",
      "Sensitivity = 1.000\n",
      "Accuracy = 1.000\n",
      "Precision = 1.000\n",
      "Matthew Correlation Coefficient = 1.000\n"
     ]
    }
   ],
   "source": [
    "# store metrics for comparision amongst other k-nearest-neighbor classifier outputs later\n",
    "\n",
    "# obtain metrics for model\n",
    "recall = metrics.recall_score(y_test,y_pred)\n",
    "accuracy = metrics.accuracy_score(y_test,y_pred)\n",
    "precision = metrics.precision_score(y_test,y_pred)\n",
    "mcc = metrics.matthews_corrcoef(y_test,y_pred)\n",
    "specificity = metrics.balanced_accuracy_score(y_test,y_pred)*2 - recall\n",
    "\n",
    "overall_rec.append(recall)\n",
    "overall_acc.append(accuracy)\n",
    "overall_pre.append(precision)\n",
    "overall_mcc.append(mcc)\n",
    "overall_spc.append(specificity)\n",
    "\n",
    "# display metrics\n",
    "print('Multilayer Perceptron - (post-pca)\\n')\n",
    "print('Sensitivity = %.3f' % recall)\n",
    "print('Accuracy = %.3f' % accuracy)\n",
    "print('Precision = %.3f' % precision)\n",
    "print('Matthew Correlation Coefficient = %.3f' % mcc)"
   ]
  },
  {
   "cell_type": "markdown",
   "metadata": {},
   "source": [
    "# Polynomial SVM"
   ]
  },
  {
   "cell_type": "code",
   "execution_count": 28,
   "metadata": {
    "pycharm": {
     "name": "#%%\n"
    }
   },
   "outputs": [
    {
     "name": "stdout",
     "output_type": "stream",
     "text": [
      "Polynomial SVM\n",
      "\n",
      "Sensitivity = 1.000\n",
      "Accuracy = 1.000\n",
      "Precision = 1.000\n",
      "Matthew Correlation Coefficient = 1.000\n"
     ]
    }
   ],
   "source": [
    "# Create the linear SVM model\n",
    "lin_model = svm.LinearSVC(tol = 0.001,\n",
    "                      loss = 'hinge',\n",
    "                      dual = True,\n",
    "                      random_state = 42)\n",
    "\n",
    "# fit model\n",
    "lin_model.fit(X_train,y_train)\n",
    "\n",
    "# predict y values from testing data\n",
    "y_pred = lin_model.predict(X_test)\n",
    "\n",
    "# confusion matrix\n",
    "results = pd.crosstab(y_test, y_pred, colnames=['Predicted / Actual'])\n",
    "results = results.rename(columns={0: 'Non-Meditative', 1: 'Meditative'})\n",
    "results.index = ['Non-Meditative', 'Meditative']\n",
    "results\n",
    "\n",
    "\n",
    "# evaluation metrics of poly svm model\n",
    "recall = metrics.recall_score(y_test,y_pred)\n",
    "accuracy = metrics.accuracy_score(y_test,y_pred)\n",
    "precision = metrics.precision_score(y_test,y_pred)\n",
    "mcc = metrics.matthews_corrcoef(y_test,y_pred)\n",
    "specificity = metrics.balanced_accuracy_score(y_test,y_pred)*2 - recall\n",
    "\n",
    "overall_rec.append(recall)\n",
    "overall_acc.append(accuracy)\n",
    "overall_pre.append(precision)\n",
    "overall_mcc.append(mcc)\n",
    "overall_spc.append(specificity)\n",
    "\n",
    "print('Polynomial SVM\\n')\n",
    "print('Sensitivity = %.3f' % recall)\n",
    "print('Accuracy = %.3f' % accuracy)\n",
    "print('Precision = %.3f' % precision)\n",
    "print('Matthew Correlation Coefficient = %.3f' % mcc)\n",
    "\n"
   ]
  },
  {
   "cell_type": "markdown",
   "metadata": {
    "pycharm": {
     "name": "#%% md\n"
    }
   },
   "source": [
    "# Classifier Comparison\n",
    "Here we will compare the different classifiers"
   ]
  },
  {
   "cell_type": "code",
   "execution_count": 29,
   "metadata": {
    "pycharm": {
     "name": "#%%\n"
    }
   },
   "outputs": [
    {
     "data": {
      "text/html": [
       "<div>\n",
       "<style scoped>\n",
       "    .dataframe tbody tr th:only-of-type {\n",
       "        vertical-align: middle;\n",
       "    }\n",
       "\n",
       "    .dataframe tbody tr th {\n",
       "        vertical-align: top;\n",
       "    }\n",
       "\n",
       "    .dataframe thead th {\n",
       "        text-align: right;\n",
       "    }\n",
       "</style>\n",
       "<table border=\"1\" class=\"dataframe\">\n",
       "  <thead>\n",
       "    <tr style=\"text-align: right;\">\n",
       "      <th></th>\n",
       "      <th>classifier</th>\n",
       "      <th>sensitivity</th>\n",
       "      <th>specificity</th>\n",
       "      <th>accuracy</th>\n",
       "      <th>precision</th>\n",
       "      <th>mcc</th>\n",
       "    </tr>\n",
       "  </thead>\n",
       "  <tbody>\n",
       "    <tr>\n",
       "      <th>0</th>\n",
       "      <td>K-means</td>\n",
       "      <td>0.75</td>\n",
       "      <td>0.000000</td>\n",
       "      <td>0.310345</td>\n",
       "      <td>0.346154</td>\n",
       "      <td>-0.404304</td>\n",
       "    </tr>\n",
       "    <tr>\n",
       "      <th>1</th>\n",
       "      <td>K-nearest neighbors</td>\n",
       "      <td>1.00</td>\n",
       "      <td>0.941176</td>\n",
       "      <td>0.965517</td>\n",
       "      <td>0.923077</td>\n",
       "      <td>0.932083</td>\n",
       "    </tr>\n",
       "    <tr>\n",
       "      <th>2</th>\n",
       "      <td>Multilayer Perceptron</td>\n",
       "      <td>1.00</td>\n",
       "      <td>1.000000</td>\n",
       "      <td>1.000000</td>\n",
       "      <td>1.000000</td>\n",
       "      <td>1.000000</td>\n",
       "    </tr>\n",
       "    <tr>\n",
       "      <th>3</th>\n",
       "      <td>Linear SVM</td>\n",
       "      <td>1.00</td>\n",
       "      <td>1.000000</td>\n",
       "      <td>1.000000</td>\n",
       "      <td>1.000000</td>\n",
       "      <td>1.000000</td>\n",
       "    </tr>\n",
       "  </tbody>\n",
       "</table>\n",
       "</div>"
      ],
      "text/plain": [
       "              classifier  sensitivity  specificity  accuracy  precision  \\\n",
       "0                K-means         0.75     0.000000  0.310345   0.346154   \n",
       "1    K-nearest neighbors         1.00     0.941176  0.965517   0.923077   \n",
       "2  Multilayer Perceptron         1.00     1.000000  1.000000   1.000000   \n",
       "3             Linear SVM         1.00     1.000000  1.000000   1.000000   \n",
       "\n",
       "        mcc  \n",
       "0 -0.404304  \n",
       "1  0.932083  \n",
       "2  1.000000  \n",
       "3  1.000000  "
      ]
     },
     "execution_count": 29,
     "metadata": {},
     "output_type": "execute_result"
    }
   ],
   "source": [
    "df = pd.DataFrame()\n",
    "\n",
    "df['classifier'] = [\"K-means\", \"K-nearest neighbors\", \"Multilayer Perceptron\", \"Linear SVM\"]\n",
    "df['sensitivity'] = overall_rec\n",
    "df['specificity'] = overall_spc\n",
    "df['accuracy'] = overall_acc\n",
    "df['precision'] = overall_pre\n",
    "df['mcc'] = overall_mcc\n",
    "\n",
    "df\n"
   ]
  },
  {
   "cell_type": "code",
   "execution_count": 30,
   "metadata": {
    "pycharm": {
     "name": "#%%\n"
    }
   },
   "outputs": [
    {
     "data": {
      "image/png": "[encoded data removed]",
      "text/plain": [
       "<Figure size 720x480 with 2 Axes>"
      ]
     },
     "metadata": {
      "needs_background": "light"
     },
     "output_type": "display_data"
    }
   ],
   "source": [
    "y_axis_labels = [\"K-means\", \"K-nearest neighbors\", \"Multilayer Perceptron\", \"Linear SVM\"]\n",
    "\n",
    "plt.figure(dpi = 120)\n",
    "red = (.9,.9,.9)\n",
    "yellow = (.5,.7,.9)\n",
    "green = (0,.4,.7)\n",
    "my_colors=[red, red, red, red,yellow,yellow,yellow, yellow,green, green]\n",
    "ax = sns.heatmap(df.iloc[:, 1:],\n",
    "                 cmap = my_colors,#sns.diverging_palette(15, 125, as_cmap=True),\n",
    "                 annot = True,\n",
    "                 yticklabels = y_axis_labels,\n",
    "                 vmin = 0,\n",
    "                 vmax = 1\n",
    "                )\n",
    "colorbar = ax.collections[0].colorbar\n",
    "colorbar.set_ticks([0,.2,.4,.6,.8,1])\n",
    "plt.title(\"Kundalini Classifier Performance\")\n",
    "plt.yticks(rotation=0)\n",
    "plt.show()"
   ]
  },
  {
   "cell_type": "code",
   "execution_count": null,
   "metadata": {},
   "outputs": [],
   "source": []
  }
 ],
 "metadata": {
  "kernelspec": {
   "display_name": "Python 3",
   "language": "python",
   "name": "python3"
  },
  "language_info": {
   "codemirror_mode": {
    "name": "ipython",
    "version": 3
   },
   "file_extension": ".py",
   "mimetype": "text/x-python",
   "name": "python",
   "nbconvert_exporter": "python",
   "pygments_lexer": "ipython3",
   "version": "3.9.1"
  }
 },
 "nbformat": 4,
 "nbformat_minor": 1
}

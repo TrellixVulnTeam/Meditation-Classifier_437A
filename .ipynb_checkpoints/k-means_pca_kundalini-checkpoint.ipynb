{
 "cells": [
  {
   "cell_type": "code",
   "execution_count": 1,
   "metadata": {
    "pycharm": {
     "name": "#%% import dependencies\n"
    }
   },
   "outputs": [],
   "source": [
    "# import required packages\n",
    "import numpy as np\n",
    "import pandas as pd\n",
    "import matplotlib\n",
    "import matplotlib.pyplot as plt\n",
    "import seaborn as sns\n",
    "from matplotlib.colors import ListedColormap\n",
    "from sklearn import neighbors, datasets\n",
    "from sklearn.preprocessing import StandardScaler\n",
    "from sklearn.model_selection import train_test_split\n",
    "from sklearn.metrics import confusion_matrix\n",
    "from sklearn import metrics\n",
    "from sklearn.metrics import classification_report"
   ]
  },
  {
   "cell_type": "code",
   "execution_count": 2,
   "metadata": {},
   "outputs": [],
   "source": [
    "# define # of nearest neighbors\n",
    "n_neighbors = 15"
   ]
  },
  {
   "cell_type": "code",
   "execution_count": 4,
   "metadata": {},
   "outputs": [
    {
     "data": {
      "text/html": [
       "<div>\n",
       "<style scoped>\n",
       "    .dataframe tbody tr th:only-of-type {\n",
       "        vertical-align: middle;\n",
       "    }\n",
       "\n",
       "    .dataframe tbody tr th {\n",
       "        vertical-align: top;\n",
       "    }\n",
       "\n",
       "    .dataframe thead th {\n",
       "        text-align: right;\n",
       "    }\n",
       "</style>\n",
       "<table border=\"1\" class=\"dataframe\">\n",
       "  <thead>\n",
       "    <tr style=\"text-align: right;\">\n",
       "      <th></th>\n",
       "      <th>PC1</th>\n",
       "      <th>PC2</th>\n",
       "      <th>PC3</th>\n",
       "      <th>PC4</th>\n",
       "      <th>label</th>\n",
       "    </tr>\n",
       "  </thead>\n",
       "  <tbody>\n",
       "    <tr>\n",
       "      <th>0</th>\n",
       "      <td>1.919234</td>\n",
       "      <td>1.225710</td>\n",
       "      <td>-1.287233</td>\n",
       "      <td>0.285046</td>\n",
       "      <td>k_pre</td>\n",
       "    </tr>\n",
       "    <tr>\n",
       "      <th>1</th>\n",
       "      <td>1.629080</td>\n",
       "      <td>-0.495292</td>\n",
       "      <td>-0.689883</td>\n",
       "      <td>0.365053</td>\n",
       "      <td>k_pre</td>\n",
       "    </tr>\n",
       "    <tr>\n",
       "      <th>2</th>\n",
       "      <td>2.341778</td>\n",
       "      <td>-1.181016</td>\n",
       "      <td>-0.758231</td>\n",
       "      <td>0.174319</td>\n",
       "      <td>k_pre</td>\n",
       "    </tr>\n",
       "    <tr>\n",
       "      <th>3</th>\n",
       "      <td>1.229193</td>\n",
       "      <td>0.930177</td>\n",
       "      <td>-0.746822</td>\n",
       "      <td>0.327738</td>\n",
       "      <td>k_pre</td>\n",
       "    </tr>\n",
       "    <tr>\n",
       "      <th>4</th>\n",
       "      <td>1.881406</td>\n",
       "      <td>-0.417269</td>\n",
       "      <td>-0.858387</td>\n",
       "      <td>0.351611</td>\n",
       "      <td>k_pre</td>\n",
       "    </tr>\n",
       "    <tr>\n",
       "      <th>...</th>\n",
       "      <td>...</td>\n",
       "      <td>...</td>\n",
       "      <td>...</td>\n",
       "      <td>...</td>\n",
       "      <td>...</td>\n",
       "    </tr>\n",
       "    <tr>\n",
       "      <th>91</th>\n",
       "      <td>-0.584261</td>\n",
       "      <td>3.824609</td>\n",
       "      <td>-0.579344</td>\n",
       "      <td>-0.546390</td>\n",
       "      <td>k_med</td>\n",
       "    </tr>\n",
       "    <tr>\n",
       "      <th>92</th>\n",
       "      <td>-0.489981</td>\n",
       "      <td>2.892255</td>\n",
       "      <td>0.260431</td>\n",
       "      <td>-0.950496</td>\n",
       "      <td>k_med</td>\n",
       "    </tr>\n",
       "    <tr>\n",
       "      <th>93</th>\n",
       "      <td>-2.153267</td>\n",
       "      <td>2.608921</td>\n",
       "      <td>0.641948</td>\n",
       "      <td>-0.166193</td>\n",
       "      <td>k_med</td>\n",
       "    </tr>\n",
       "    <tr>\n",
       "      <th>94</th>\n",
       "      <td>-0.443943</td>\n",
       "      <td>3.236324</td>\n",
       "      <td>-0.394600</td>\n",
       "      <td>-0.524103</td>\n",
       "      <td>k_med</td>\n",
       "    </tr>\n",
       "    <tr>\n",
       "      <th>95</th>\n",
       "      <td>0.402208</td>\n",
       "      <td>3.711258</td>\n",
       "      <td>-0.561773</td>\n",
       "      <td>-0.895813</td>\n",
       "      <td>k_med</td>\n",
       "    </tr>\n",
       "  </tbody>\n",
       "</table>\n",
       "<p>96 rows × 5 columns</p>\n",
       "</div>"
      ],
      "text/plain": [
       "         PC1       PC2       PC3       PC4  label\n",
       "0   1.919234  1.225710 -1.287233  0.285046  k_pre\n",
       "1   1.629080 -0.495292 -0.689883  0.365053  k_pre\n",
       "2   2.341778 -1.181016 -0.758231  0.174319  k_pre\n",
       "3   1.229193  0.930177 -0.746822  0.327738  k_pre\n",
       "4   1.881406 -0.417269 -0.858387  0.351611  k_pre\n",
       "..       ...       ...       ...       ...    ...\n",
       "91 -0.584261  3.824609 -0.579344 -0.546390  k_med\n",
       "92 -0.489981  2.892255  0.260431 -0.950496  k_med\n",
       "93 -2.153267  2.608921  0.641948 -0.166193  k_med\n",
       "94 -0.443943  3.236324 -0.394600 -0.524103  k_med\n",
       "95  0.402208  3.711258 -0.561773 -0.895813  k_med\n",
       "\n",
       "[96 rows x 5 columns]"
      ]
     },
     "execution_count": 4,
     "metadata": {},
     "output_type": "execute_result"
    }
   ],
   "source": [
    "# read in features csv file\n",
    "df = pd.read_csv('kundalini/k_pca_features.csv')\n",
    "df"
   ]
  },
  {
   "cell_type": "code",
   "execution_count": 5,
   "metadata": {},
   "outputs": [
    {
     "data": {
      "text/html": [
       "<div>\n",
       "<style scoped>\n",
       "    .dataframe tbody tr th:only-of-type {\n",
       "        vertical-align: middle;\n",
       "    }\n",
       "\n",
       "    .dataframe tbody tr th {\n",
       "        vertical-align: top;\n",
       "    }\n",
       "\n",
       "    .dataframe thead th {\n",
       "        text-align: right;\n",
       "    }\n",
       "</style>\n",
       "<table border=\"1\" class=\"dataframe\">\n",
       "  <thead>\n",
       "    <tr style=\"text-align: right;\">\n",
       "      <th></th>\n",
       "      <th>PC1</th>\n",
       "      <th>PC2</th>\n",
       "      <th>PC3</th>\n",
       "      <th>PC4</th>\n",
       "      <th>label</th>\n",
       "    </tr>\n",
       "  </thead>\n",
       "  <tbody>\n",
       "    <tr>\n",
       "      <th>0</th>\n",
       "      <td>1.919234</td>\n",
       "      <td>1.225710</td>\n",
       "      <td>-1.287233</td>\n",
       "      <td>0.285046</td>\n",
       "      <td>0</td>\n",
       "    </tr>\n",
       "    <tr>\n",
       "      <th>1</th>\n",
       "      <td>1.629080</td>\n",
       "      <td>-0.495292</td>\n",
       "      <td>-0.689883</td>\n",
       "      <td>0.365053</td>\n",
       "      <td>0</td>\n",
       "    </tr>\n",
       "    <tr>\n",
       "      <th>2</th>\n",
       "      <td>2.341778</td>\n",
       "      <td>-1.181016</td>\n",
       "      <td>-0.758231</td>\n",
       "      <td>0.174319</td>\n",
       "      <td>0</td>\n",
       "    </tr>\n",
       "    <tr>\n",
       "      <th>3</th>\n",
       "      <td>1.229193</td>\n",
       "      <td>0.930177</td>\n",
       "      <td>-0.746822</td>\n",
       "      <td>0.327738</td>\n",
       "      <td>0</td>\n",
       "    </tr>\n",
       "    <tr>\n",
       "      <th>4</th>\n",
       "      <td>1.881406</td>\n",
       "      <td>-0.417269</td>\n",
       "      <td>-0.858387</td>\n",
       "      <td>0.351611</td>\n",
       "      <td>0</td>\n",
       "    </tr>\n",
       "    <tr>\n",
       "      <th>...</th>\n",
       "      <td>...</td>\n",
       "      <td>...</td>\n",
       "      <td>...</td>\n",
       "      <td>...</td>\n",
       "      <td>...</td>\n",
       "    </tr>\n",
       "    <tr>\n",
       "      <th>91</th>\n",
       "      <td>-0.584261</td>\n",
       "      <td>3.824609</td>\n",
       "      <td>-0.579344</td>\n",
       "      <td>-0.546390</td>\n",
       "      <td>1</td>\n",
       "    </tr>\n",
       "    <tr>\n",
       "      <th>92</th>\n",
       "      <td>-0.489981</td>\n",
       "      <td>2.892255</td>\n",
       "      <td>0.260431</td>\n",
       "      <td>-0.950496</td>\n",
       "      <td>1</td>\n",
       "    </tr>\n",
       "    <tr>\n",
       "      <th>93</th>\n",
       "      <td>-2.153267</td>\n",
       "      <td>2.608921</td>\n",
       "      <td>0.641948</td>\n",
       "      <td>-0.166193</td>\n",
       "      <td>1</td>\n",
       "    </tr>\n",
       "    <tr>\n",
       "      <th>94</th>\n",
       "      <td>-0.443943</td>\n",
       "      <td>3.236324</td>\n",
       "      <td>-0.394600</td>\n",
       "      <td>-0.524103</td>\n",
       "      <td>1</td>\n",
       "    </tr>\n",
       "    <tr>\n",
       "      <th>95</th>\n",
       "      <td>0.402208</td>\n",
       "      <td>3.711258</td>\n",
       "      <td>-0.561773</td>\n",
       "      <td>-0.895813</td>\n",
       "      <td>1</td>\n",
       "    </tr>\n",
       "  </tbody>\n",
       "</table>\n",
       "<p>96 rows × 5 columns</p>\n",
       "</div>"
      ],
      "text/plain": [
       "         PC1       PC2       PC3       PC4  label\n",
       "0   1.919234  1.225710 -1.287233  0.285046      0\n",
       "1   1.629080 -0.495292 -0.689883  0.365053      0\n",
       "2   2.341778 -1.181016 -0.758231  0.174319      0\n",
       "3   1.229193  0.930177 -0.746822  0.327738      0\n",
       "4   1.881406 -0.417269 -0.858387  0.351611      0\n",
       "..       ...       ...       ...       ...    ...\n",
       "91 -0.584261  3.824609 -0.579344 -0.546390      1\n",
       "92 -0.489981  2.892255  0.260431 -0.950496      1\n",
       "93 -2.153267  2.608921  0.641948 -0.166193      1\n",
       "94 -0.443943  3.236324 -0.394600 -0.524103      1\n",
       "95  0.402208  3.711258 -0.561773 -0.895813      1\n",
       "\n",
       "[96 rows x 5 columns]"
      ]
     },
     "execution_count": 5,
     "metadata": {},
     "output_type": "execute_result"
    }
   ],
   "source": [
    "# encode meditative/non-meditative labels\n",
    "categories = {'k_pre':0,'k_med':1}\n",
    "df['label'] = df['label'].replace(categories)\n",
    "df"
   ]
  },
  {
   "cell_type": "code",
   "execution_count": 6,
   "metadata": {
    "pycharm": {
     "name": "#%%\n"
    }
   },
   "outputs": [],
   "source": [
    "# split dependent and independent variables\n",
    "# target variable\n",
    "Y = df['label'].values\n",
    "# features\n",
    "X = df.drop(labels = ['label'], axis = 1)\n",
    "features_list = list(X.columns)\n",
    "\n",
    "# Standardizing the features\n",
    "X = StandardScaler().fit_transform(X)"
   ]
  },
  {
   "cell_type": "code",
   "execution_count": 7,
   "metadata": {
    "pycharm": {
     "name": "#%%\n"
    }
   },
   "outputs": [],
   "source": [
    "# split training and testing dataset: 70% training, 30% testing\n",
    "X_train,X_test,y_train,y_test = train_test_split(X,Y,test_size = 0.3,random_state = 42)"
   ]
  },
  {
   "cell_type": "markdown",
   "metadata": {},
   "source": [
    "# K Nearest Neighbors"
   ]
  },
  {
   "cell_type": "code",
   "execution_count": 8,
   "metadata": {},
   "outputs": [],
   "source": [
    "#create the classifier\n",
    "clf = neighbors.KNeighborsClassifier(n_neighbors, weights=\"distance\")"
   ]
  },
  {
   "cell_type": "code",
   "execution_count": 9,
   "metadata": {
    "pycharm": {
     "name": "#%%\n"
    }
   },
   "outputs": [
    {
     "data": {
      "text/plain": [
       "KNeighborsClassifier(n_neighbors=15, weights='distance')"
      ]
     },
     "execution_count": 9,
     "metadata": {},
     "output_type": "execute_result"
    }
   ],
   "source": [
    "# train the classifier\n",
    "clf.fit(X_train, y_train)"
   ]
  },
  {
   "cell_type": "code",
   "execution_count": 10,
   "metadata": {
    "pycharm": {
     "name": "#%%\n"
    }
   },
   "outputs": [],
   "source": [
    "# test classifier\n",
    "\n",
    "y_pred = clf.predict(X_test)"
   ]
  },
  {
   "cell_type": "code",
   "execution_count": 11,
   "metadata": {},
   "outputs": [
    {
     "data": {
      "text/html": [
       "<div>\n",
       "<style scoped>\n",
       "    .dataframe tbody tr th:only-of-type {\n",
       "        vertical-align: middle;\n",
       "    }\n",
       "\n",
       "    .dataframe tbody tr th {\n",
       "        vertical-align: top;\n",
       "    }\n",
       "\n",
       "    .dataframe thead th {\n",
       "        text-align: right;\n",
       "    }\n",
       "</style>\n",
       "<table border=\"1\" class=\"dataframe\">\n",
       "  <thead>\n",
       "    <tr style=\"text-align: right;\">\n",
       "      <th>Predicted / Actual</th>\n",
       "      <th>Non-Meditative</th>\n",
       "      <th>Meditative</th>\n",
       "    </tr>\n",
       "  </thead>\n",
       "  <tbody>\n",
       "    <tr>\n",
       "      <th>Non-Meditative</th>\n",
       "      <td>11</td>\n",
       "      <td>6</td>\n",
       "    </tr>\n",
       "    <tr>\n",
       "      <th>Meditative</th>\n",
       "      <td>0</td>\n",
       "      <td>12</td>\n",
       "    </tr>\n",
       "  </tbody>\n",
       "</table>\n",
       "</div>"
      ],
      "text/plain": [
       "Predicted / Actual  Non-Meditative  Meditative\n",
       "Non-Meditative                  11           6\n",
       "Meditative                       0          12"
      ]
     },
     "execution_count": 11,
     "metadata": {},
     "output_type": "execute_result"
    }
   ],
   "source": [
    "# analyze test_data\n",
    "# display results in confusion matrix\n",
    "cm = confusion_matrix(y_test,y_pred)\n",
    "cm\n",
    "\n",
    "results = pd.crosstab(y_test, y_pred, colnames=['Predicted / Actual'])\n",
    "results = results.rename(columns={0: 'Non-Meditative', 1: 'Meditative'})\n",
    "results.index = ['Non-Meditative', 'Meditative']\n",
    "results"
   ]
  },
  {
   "cell_type": "code",
   "execution_count": 12,
   "metadata": {},
   "outputs": [
    {
     "name": "stdout",
     "output_type": "stream",
     "text": [
      "                precision    recall  f1-score   support\n",
      "\n",
      "Non-Meditative       1.00      0.65      0.79        17\n",
      "    Meditative       0.67      1.00      0.80        12\n",
      "\n",
      "      accuracy                           0.79        29\n",
      "     macro avg       0.83      0.82      0.79        29\n",
      "  weighted avg       0.86      0.79      0.79        29\n",
      "\n"
     ]
    }
   ],
   "source": [
    "target_names = ['Non-Meditative', 'Meditative']\n",
    "print(classification_report(y_test, y_pred, target_names=target_names))"
   ]
  },
  {
   "cell_type": "code",
   "execution_count": 14,
   "metadata": {},
   "outputs": [
    {
     "name": "stdout",
     "output_type": "stream",
     "text": [
      "K-means: Kundalini (post-pca)\n",
      "\n",
      "Sensitivity = 1.000\n",
      "Accuracy = 0.793\n",
      "Precision = 0.667\n",
      "Matthew Correlation Coefficient = 0.657\n"
     ]
    }
   ],
   "source": [
    "# store metrics for comparision amongst other k-nearest-neighbor classifier outputs later\n",
    "svm_rec = []\n",
    "svm_acc = []\n",
    "svm_pre = []\n",
    "svm_mcc = []\n",
    "\n",
    "# obtain metrics for model\n",
    "recall = metrics.recall_score(y_test,y_pred)\n",
    "accuracy = metrics.accuracy_score(y_test,y_pred)\n",
    "precision = metrics.precision_score(y_test,y_pred)\n",
    "mcc = metrics.matthews_corrcoef(y_test,y_pred)\n",
    "\n",
    "svm_rec.append(recall)\n",
    "svm_acc.append(accuracy)\n",
    "svm_pre.append(precision)\n",
    "svm_mcc.append(mcc)\n",
    "\n",
    "# display metrics\n",
    "print('K-means: Kundalini (post-pca)\\n')\n",
    "print('Sensitivity = %.3f' % recall)\n",
    "print('Accuracy = %.3f' % accuracy)\n",
    "print('Precision = %.3f' % precision)\n",
    "print('Matthew Correlation Coefficient = %.3f' % mcc)"
   ]
  },
  {
   "cell_type": "code",
   "execution_count": null,
   "metadata": {},
   "outputs": [],
   "source": []
  },
  {
   "cell_type": "code",
   "execution_count": null,
   "metadata": {},
   "outputs": [],
   "source": []
  }
 ],
 "metadata": {
  "kernelspec": {
   "display_name": "Python 3",
   "language": "python",
   "name": "python3"
  },
  "language_info": {
   "codemirror_mode": {
    "name": "ipython",
    "version": 3
   },
   "file_extension": ".py",
   "mimetype": "text/x-python",
   "name": "python",
   "nbconvert_exporter": "python",
   "pygments_lexer": "ipython3",
   "version": "3.9.1"
  }
 },
 "nbformat": 4,
 "nbformat_minor": 1
}
